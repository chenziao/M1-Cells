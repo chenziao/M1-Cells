{
 "cells": [
  {
   "cell_type": "code",
   "execution_count": 1,
   "id": "93e4bd9a",
   "metadata": {},
   "outputs": [],
   "source": [
    "import neuron\n",
    "from neuron import h\n",
    "from neuron.units import ms, mV\n",
    "import numpy as np\n",
    "from scipy.signal import find_peaks\n",
    "from scipy.optimize import curve_fit\n",
    "import matplotlib.pyplot as plt\n",
    "import json\n",
    "import os\n",
    "import ipywidgets as widgets\n",
    "from ipywidgets import interactive_output,HBox,VBox,Label,Layout\n",
    "from IPython.display import display\n",
    "from IPython.display import clear_output\n",
    "%matplotlib inline\n",
    "\n",
    "h.load_file('stdrun.hoc')\n",
    "neuron.load_mechanisms('mechanisms')\n",
    "h.load_file('templates/templates.hoc') # reads in template\n",
    "\n",
    "h.dt = 0.025 # time step (resolution) of the simulation in ms\n",
    "h.steps_per_ms = 1 / h.dt\n",
    "h.celsius = 36.0\n",
    "\n",
    "Connection = 'CP2FSI'"
   ]
  },
  {
   "cell_type": "markdown",
   "id": "88059aa4",
   "metadata": {},
   "source": [
    "### Set parameters for different connection types"
   ]
  },
  {
   "cell_type": "markdown",
   "id": "f7219222",
   "metadata": {},
   "source": [
    "#### Basic settings"
   ]
  },
  {
   "cell_type": "code",
   "execution_count": 2,
   "id": "88b8a3c5",
   "metadata": {},
   "outputs": [],
   "source": [
    "default_settings = {\n",
    "    'post_cell': 'CP_Cell',\n",
    "    'sec_id': 1,\n",
    "    'sec_x': 0.5,\n",
    "    'syn_type': 'AMPA_NMDA_STP',\n",
    "    'vclamp': True,\n",
    "    'vclamp_amp': -60.,\n",
    "    'rise_interval': (0.2, 0.8),\n",
    "    'tstart': 500.,\n",
    "    'tdur': 1100.,\n",
    "    'threshold': 0., # netcon\n",
    "    'delay': 1.6, # netcon\n",
    "    'weight': 1., # netcon\n",
    "}\n",
    "syn_param_exc = {\n",
    "    'initW': 1.0,\n",
    "    'tau_r_AMPA': 0.2, # (ms) Dual-exponential conductance profile\n",
    "    'tau_d_AMPA': 1.7, # (ms) IMPORTANT: tau_r < tau_d\n",
    "    'Use': 1., # (1) Utilization of synaptic efficacy\n",
    "    'Dep': 100., # (ms) Relaxation time constant from depression\n",
    "    'Fac': 10., # (ms) Relaxation time constant from facilitation\n",
    "}\n",
    "syn_param_inh = {\n",
    "    'initW': 1.0,\n",
    "    'tau_r_GABAA': 0.2, # (ms) Dual-exponential conductance profile\n",
    "    'tau_d_GABAA': 8., # (ms) IMPORTANT: tau_r < tau_d\n",
    "    'Use': 1., # (1) Utilization of synaptic efficacy\n",
    "    'Dep': 100., # (ms) Relaxation time constant from depression\n",
    "    'Fac': 10., # (ms) Relaxation time constant from facilitation\n",
    "}\n",
    "syn_param_dict = {'AMPA_NMDA_STP': syn_param_exc, 'GABA_AB_STP': syn_param_inh}"
   ]
  },
  {
   "cell_type": "markdown",
   "id": "fe47f87d",
   "metadata": {},
   "source": [
    "#### Settings for individual conection types"
   ]
  },
  {
   "cell_type": "code",
   "execution_count": 3,
   "id": "4090e1a4",
   "metadata": {},
   "outputs": [],
   "source": [
    "conn_type_settings = {\n",
    "    'CP2CP': {\n",
    "        'spec_settings': {\n",
    "            'post_cell': 'CP_Cell',\n",
    "            'sec_x': 0.4,\n",
    "        },\n",
    "        'spec_syn_param': {\n",
    "            'initW': 3.6,\n",
    "            'tau_d_AMPA': 5.2,\n",
    "            'Use': 0.37,\n",
    "            'Dep': 31.7,\n",
    "            'Fac': 519.,\n",
    "        },\n",
    "    },\n",
    "    'CP2CS': {\n",
    "        'spec_settings': {\n",
    "            'post_cell': 'CS_Cell',\n",
    "            'sec_x': 0.4,\n",
    "        },\n",
    "        'spec_syn_param': {\n",
    "            'initW': 3.4,\n",
    "            'tau_d_AMPA': 5.2,\n",
    "            'Use': 0.37,\n",
    "            'Dep': 31.7,\n",
    "            'Fac': 519.,\n",
    "        },\n",
    "    },\n",
    "    'CS2CS': {\n",
    "        'spec_settings': {\n",
    "            'post_cell': 'CS_Cell',\n",
    "            'sec_x': 0.4,\n",
    "        },\n",
    "        'spec_syn_param': {\n",
    "            'initW': 1.5,\n",
    "            'tau_d_AMPA': 5.2,\n",
    "            'Use': 0.41,\n",
    "            'Dep': 532.,\n",
    "            'Fac': 65.\n",
    "        },\n",
    "    },\n",
    "    'CS2CP': {\n",
    "        'spec_settings': {\n",
    "            'post_cell': 'CP_Cell',\n",
    "            'sec_x': 0.4,\n",
    "        },\n",
    "        'spec_syn_param': {\n",
    "            'initW': 1.6,\n",
    "            'tau_d_AMPA': 5.2,\n",
    "            'Use': 0.41,\n",
    "            'Dep': 532.,\n",
    "            'Fac': 65.\n",
    "        },\n",
    "    },\n",
    "    'CP2FSI': {\n",
    "        'spec_settings': {\n",
    "            'post_cell': 'FSI_Cell',\n",
    "            'rise_interval': (0.1, 0.9),\n",
    "        },\n",
    "        'spec_syn_param': {\n",
    "            'initW': 15.,\n",
    "            'tau_r_AMPA': 0.4,\n",
    "            'tau_d_AMPA': 2.9,\n",
    "            'Use': 0.035,\n",
    "            'Dep': 500.,\n",
    "            'Fac': 0.\n",
    "        },\n",
    "    },\n",
    "    'CS2FSI': {\n",
    "        'spec_settings': {\n",
    "            'post_cell': 'FSI_Cell',\n",
    "            'vclamp': False,\n",
    "            'rise_interval': (0.1, 0.9),\n",
    "        },\n",
    "        'spec_syn_param': {\n",
    "            'initW': 3.3,\n",
    "            'tau_r_AMPA': 0.45,\n",
    "            'tau_d_AMPA': 3.8,\n",
    "            'Use': 0.18,\n",
    "            'Dep': 600.,\n",
    "            'Fac': 0.\n",
    "        },\n",
    "    },\n",
    "    'CP2LTS': {\n",
    "        'spec_settings': {\n",
    "            'post_cell': 'LTS_Cell',\n",
    "            'vclamp': False,\n",
    "            'rise_interval': (0.1, 0.9),\n",
    "        },\n",
    "        'spec_syn_param': {\n",
    "            'initW': 1.8,\n",
    "            'tau_r_AMPA': 0.4,\n",
    "            'tau_d_AMPA': 3.9,\n",
    "            'Use': 0.05,\n",
    "            'Dep': 0.,\n",
    "            'Fac': 200.\n",
    "        },\n",
    "    },\n",
    "    'CS2LTS': {\n",
    "        'spec_settings': {\n",
    "            'post_cell': 'LTS_Cell',\n",
    "            'vclamp': False,\n",
    "            'rise_interval': (0.1, 0.9),\n",
    "        },\n",
    "        'spec_syn_param': {\n",
    "            'initW': 0.76,\n",
    "            'tau_r_AMPA': 0.45,\n",
    "            'tau_d_AMPA': 7.5,\n",
    "            'Use': 0.13,\n",
    "            'Dep': 0.,\n",
    "            'Fac': 200.\n",
    "        },\n",
    "    },\n",
    "    'FSI2CP': {\n",
    "        'spec_settings': {\n",
    "            'post_cell': 'CP_Cell',\n",
    "            'sec_id': 0,\n",
    "            'syn_type': 'GABA_AB_STP',\n",
    "            'vclamp': False,\n",
    "            'vclamp_amp': -60.,\n",
    "        },\n",
    "        'spec_syn_param': {\n",
    "            'initW': 2.4,\n",
    "            'tau_d_GABAA': 7.,\n",
    "            'e_GABAA': -90.,\n",
    "            'Use': 0.3,\n",
    "            'Dep': 400.,\n",
    "            'Fac': 0.\n",
    "        },\n",
    "    },\n",
    "    'FSI2CS': {\n",
    "        'spec_settings': {\n",
    "            'post_cell': 'CS_Cell',\n",
    "            'sec_id': 0,\n",
    "            'syn_type': 'GABA_AB_STP',\n",
    "            'vclamp': False,\n",
    "            'vclamp_amp': -60.,\n",
    "        },\n",
    "        'spec_syn_param': {\n",
    "            'initW': 3.0,\n",
    "            'tau_d_GABAA': 7.,\n",
    "            'e_GABAA': -90.,\n",
    "            'Use': 0.3,\n",
    "            'Dep': 400.,\n",
    "            'Fac': 0.\n",
    "        },\n",
    "    },\n",
    "    'LTS2CP': {\n",
    "        'spec_settings': {\n",
    "            'post_cell': 'CP_Cell',\n",
    "            'sec_id': 2,\n",
    "            'sec_x': 0.8,\n",
    "            'syn_type': 'GABA_AB_STP',\n",
    "            'vclamp': False,\n",
    "            'vclamp_amp': -60.,\n",
    "        },\n",
    "        'spec_syn_param': {\n",
    "            'initW': 0.85,\n",
    "            'tau_r_GABAA': 0.9,\n",
    "            'tau_d_GABAA': 9.,\n",
    "            'e_GABAA': -90.,\n",
    "            'Use': 0.3,\n",
    "            'Dep': 25.,\n",
    "            'Fac': 100.\n",
    "        },\n",
    "    },\n",
    "    'LTS2CS': {\n",
    "        'spec_settings': {\n",
    "            'post_cell': 'CS_Cell',\n",
    "            'sec_id': 2,\n",
    "            'sec_x': 0.8,\n",
    "            'syn_type': 'GABA_AB_STP',\n",
    "            'vclamp': False,\n",
    "            'vclamp_amp': -60.,\n",
    "        },\n",
    "        'spec_syn_param': {\n",
    "            'initW': 1.1,\n",
    "            'tau_r_GABAA': 0.9,\n",
    "            'tau_d_GABAA': 9.,\n",
    "            'e_GABAA': -90.,\n",
    "            'Use': 0.3,\n",
    "            'Dep': 25.,\n",
    "            'Fac': 100.\n",
    "        },\n",
    "    },\n",
    "    'FSI2FSI': {\n",
    "        'spec_settings': {\n",
    "            'post_cell': 'FSI_Cell',\n",
    "            'sec_id': 0,\n",
    "            'syn_type': 'GABA_AB_STP',\n",
    "            'vclamp_amp': -50.,\n",
    "            'rise_interval': (0.1, 0.9),\n",
    "        },\n",
    "        'spec_syn_param': {\n",
    "            'initW': 1.3,\n",
    "            'tau_d_GABAA': 5.,\n",
    "            'Use': 0.3,\n",
    "            'Dep': 400.,\n",
    "            'Fac': 0.\n",
    "        },\n",
    "    },\n",
    "    'FSI2LTS': {\n",
    "        'spec_settings': {\n",
    "            'post_cell': 'LTS_Cell',\n",
    "            'sec_id': 0,\n",
    "            'syn_type': 'GABA_AB_STP',\n",
    "            'vclamp_amp': -60.,\n",
    "            'rise_interval': (0.1, 0.9),\n",
    "        },\n",
    "        'spec_syn_param': {\n",
    "            'initW': 0.6,\n",
    "            'tau_d_GABAA': 5.,\n",
    "            'Use': 0.3,\n",
    "            'Dep': 400.,\n",
    "            'Fac': 0.\n",
    "        },\n",
    "    },\n",
    "    'LTS2FSI': {\n",
    "        'spec_settings': {\n",
    "            'post_cell': 'FSI_Cell',\n",
    "            'sec_id': 0,\n",
    "            'syn_type': 'GABA_AB_STP',\n",
    "            'vclamp_amp': -50.,\n",
    "            'rise_interval': (0.1, 0.9),\n",
    "        },\n",
    "        'spec_syn_param': {\n",
    "            'initW': 0.5,\n",
    "            'tau_r_GABAA': 0.9,\n",
    "            'tau_d_GABAA': 9.,\n",
    "            'Use': 0.3,\n",
    "            'Dep': 25.,\n",
    "            'Fac': 100.\n",
    "        },\n",
    "    },\n",
    "    'LTS2LTS': {\n",
    "        'spec_settings': {\n",
    "            'post_cell': 'LTS_Cell',\n",
    "            'sec_id': 0,\n",
    "            'syn_type': 'GABA_AB_STP',\n",
    "            'vclamp_amp': -60.,\n",
    "            'rise_interval': (0.1, 0.9),\n",
    "        },\n",
    "        'spec_syn_param': {\n",
    "            'initW': 0.5,\n",
    "            'tau_r_GABAA': 0.9,\n",
    "            'tau_d_GABAA': 9.,\n",
    "            'Use': 0.3,\n",
    "            'Dep': 25.,\n",
    "            'Fac': 100.\n",
    "        },\n",
    "    },\n",
    "}"
   ]
  },
  {
   "cell_type": "code",
   "execution_count": 4,
   "id": "4de7bf7a",
   "metadata": {},
   "outputs": [],
   "source": [
    "conn_type_setting = conn_type_settings[Connection]\n",
    "settings = default_settings.copy()\n",
    "settings.update(conn_type_setting['spec_settings'])\n",
    "syn_param = syn_param_dict[settings['syn_type']].copy()\n",
    "syn_param.update(conn_type_setting['spec_syn_param'])"
   ]
  },
  {
   "cell_type": "markdown",
   "id": "f1b295f8",
   "metadata": {},
   "source": [
    "### Set up model for simulation"
   ]
  },
  {
   "cell_type": "code",
   "execution_count": 5,
   "id": "c9c2d49f",
   "metadata": {},
   "outputs": [
    {
     "data": {
      "text/plain": [
       "Vector[5]"
      ]
     },
     "execution_count": 5,
     "metadata": {},
     "output_type": "execute_result"
    }
   ],
   "source": [
    "tstart = settings['tstart']\n",
    "tdur = settings['tdur']\n",
    "h.tstop = tstop = tstart + tdur # how long to run the simulation in ms\n",
    "\n",
    "cell = getattr(h, settings['post_cell'])()\n",
    "syn = getattr(h, settings['syn_type'])(list(cell.all)[settings['sec_id']](settings['sec_x']))\n",
    "nstim = h.NetStim()\n",
    "nstim.start = tstart\n",
    "nstim.noise = 0\n",
    "nc = h.NetCon(nstim, syn, settings['threshold'], settings['delay'], settings['weight'])\n",
    "vcl = h.VClamp(cell.soma[0](0.5))\n",
    "vcldur = [[0, 0, 0],[tstart, tstop, 1e9]]\n",
    "vcl_on = True\n",
    "for i in range(3):\n",
    "    vcl.amp[i] = settings['vclamp_amp']\n",
    "\n",
    "def switch_vclamp(on=True):\n",
    "    global vcl_on\n",
    "    vcl_on = on\n",
    "    on = int(on)\n",
    "    for i in range(3):\n",
    "        vcl.dur[i] = vcldur[on][i]\n",
    "\n",
    "switch_vclamp(settings['vclamp'])\n",
    "\n",
    "t = h.Vector() # Vectors are used to record data in the simulation\n",
    "tspk = h.Vector() # synapse event times\n",
    "soma_v = h.Vector()\n",
    "ivcl = h.Vector()\n",
    "isyn = h.Vector()\n",
    "Use_rec = h.Vector()\n",
    "Pr = h.Vector()\n",
    "# record data\n",
    "t.record(h._ref_t)\n",
    "nc.record(tspk)\n",
    "soma_v.record(cell.soma[0](0.5)._ref_v)\n",
    "ivcl.record(vcl._ref_i)\n",
    "isyn.record(syn._ref_i)\n",
    "Pr.record(syn._ref_record_Pr)\n",
    "Use_rec.record(syn._ref_record_use)"
   ]
  },
  {
   "cell_type": "markdown",
   "id": "2329c76e",
   "metadata": {},
   "source": [
    "### Single synaptic event and evaluate properties"
   ]
  },
  {
   "cell_type": "markdown",
   "id": "83eb8cac",
   "metadata": {},
   "source": [
    "#### Functions for estimating synaptic properties"
   ]
  },
  {
   "cell_type": "code",
   "execution_count": 6,
   "id": "db652c5f",
   "metadata": {},
   "outputs": [],
   "source": [
    "def find_first(x):\n",
    "    x = np.asarray(x)\n",
    "    idx = np.nonzero(x)[0]\n",
    "    if idx.size:\n",
    "        return idx[0]\n",
    "    else:\n",
    "        return None\n",
    "\n",
    "def get_syn_prop(isyn, tspk, rise_interval=(0.2, 0.8), dt=h.dt):\n",
    "    isyn = np.asarray(isyn)\n",
    "    tspk = np.asarray(tspk)\n",
    "    if tspk.size:\n",
    "        tspk = tspk[0]\n",
    "    ispk = int(np.floor(tspk / dt))\n",
    "    baseline = isyn[ispk]\n",
    "    isyn = isyn[ispk:] - baseline\n",
    "    sign = np.sign(isyn[np.argmax(np.abs(isyn))])\n",
    "    isyn *= sign\n",
    "    # peak amplitude\n",
    "    ipk, _ = find_peaks(isyn)\n",
    "    ipk = ipk[0]\n",
    "    peak = isyn[ipk]\n",
    "    # latency\n",
    "    istart = find_first(np.diff(isyn[:ipk + 1]) > 0)\n",
    "    latency = dt * (istart + 1)\n",
    "    # rise time\n",
    "    rt1 = find_first(isyn[istart:ipk + 1] > rise_interval[0] * peak)\n",
    "    rt2 = find_first(isyn[istart:ipk + 1] > rise_interval[1] * peak)\n",
    "    rise_time = (rt2 - rt1) * dt\n",
    "    # decay time\n",
    "    iend = find_first(np.diff(isyn[ipk:]) > 0)\n",
    "    iend = isyn.size - 1 if iend is None else iend + ipk\n",
    "    decay_len = iend - ipk + 1\n",
    "    popt, _ = curve_fit(lambda t, a, tau: a * np.exp(-t / tau), dt * np.arange(decay_len),\n",
    "                        isyn[ipk:iend + 1], p0=(peak, dt * decay_len / 2))\n",
    "    decay_time = popt[1]\n",
    "    # half-width\n",
    "    hw1 = find_first(isyn[istart:ipk + 1] > 0.5 * peak)\n",
    "    hw2 = find_first(isyn[ipk:] < 0.5 * peak)\n",
    "    hw2 = isyn.size if hw2 is None else hw2 + ipk\n",
    "    half_width = dt * (hw2 - hw1)\n",
    "    output = {'baseline': baseline, 'sign': sign, 'latency': latency,\n",
    "          'amp': peak, 'rise_time': rise_time, 'decay_time': decay_time, 'half_width': half_width}\n",
    "    return output\n",
    "\n",
    "def paired_pulse_ratio(isyn, tspk, dt=h.dt):\n",
    "    isyn = np.asarray(isyn)\n",
    "    tspk = np.asarray(tspk)\n",
    "    if tspk.size < 2:\n",
    "        raise ValueError(\"Need at least two spikes.\")\n",
    "    syn_prop = get_syn_prop(isyn, tspk, dt=dt)\n",
    "    isyn = (isyn - syn_prop['baseline']) * syn_prop['sign']\n",
    "    ispk2 = int(np.floor(tspk[1] / dt))\n",
    "    ipk, _ = find_peaks(isyn[ispk2:])\n",
    "    ipk2 = ipk[0] + ispk2\n",
    "    peak2 = isyn[ipk2]\n",
    "    return peak2 / syn_prop['amp']"
   ]
  },
  {
   "cell_type": "code",
   "execution_count": 7,
   "id": "9fa6f8b5",
   "metadata": {},
   "outputs": [
    {
     "name": "stdout",
     "output_type": "stream",
     "text": [
      "{'initW': 15.0, 'tau_r_AMPA': 0.4, 'tau_d_AMPA': 2.9, 'Use': 0.035, 'Dep': 500.0, 'Fac': 0.0}\n"
     ]
    },
    {
     "data": {
      "text/plain": [
       "0.0"
      ]
     },
     "execution_count": 7,
     "metadata": {},
     "output_type": "execute_result"
    }
   ],
   "source": [
    "print(syn_param)\n",
    "# change synaptic parameters for tuning\n",
    "'''\n",
    "syn_param.update({\n",
    "    'initW': 1.3,\n",
    "    'tau_r_GABAA': 0.2, # (ms) Dual-exponential conductance profile\n",
    "    'tau_d_GABAA': 5.0, # (ms) IMPORTANT: tau_r < tau_d\n",
    "#     'e_GABAA': -75.,\n",
    "})\n",
    "print(syn_param)\n",
    "# '''\n",
    "switch_vclamp(False)\n",
    "# switch_vclamp(True)\n",
    "\n",
    "nstim.interval = tdur\n",
    "nstim.number = 1\n",
    "for key, value in syn_param.items():\n",
    "    setattr(syn, key, value)\n",
    "\n",
    "h.run()"
   ]
  },
  {
   "cell_type": "code",
   "execution_count": 8,
   "id": "317902c6",
   "metadata": {
    "scrolled": false
   },
   "outputs": [
    {
     "name": "stdout",
     "output_type": "stream",
     "text": [
      "{\n",
      "  \"baseline\": -69.94395863686796,\n",
      "  \"sign\": 1.0,\n",
      "  \"latency\": 1.6500000000000001,\n",
      "  \"amp\": 1.7947695943448565,\n",
      "  \"rise_time\": 3.2750000000000004,\n",
      "  \"decay_time\": 17.954228616917636,\n",
      "  \"half_width\": 19.6\n",
      "}\n"
     ]
    }
   ],
   "source": [
    "# synaptic current\n",
    "syn_prop = get_syn_prop(isyn if vcl_on else soma_v, tspk, rise_interval=settings['rise_interval'])\n",
    "print(json.dumps(syn_prop, indent=2))\n",
    "if vcl_on: # clamp current\n",
    "    syn_prop_vcl = get_syn_prop(ivcl, tspk, rise_interval=settings['rise_interval'])\n",
    "    print(json.dumps(syn_prop_vcl, indent=2))"
   ]
  },
  {
   "cell_type": "code",
   "execution_count": 9,
   "id": "a839740b",
   "metadata": {},
   "outputs": [
    {
     "data": {
      "image/png": "[encoded data removed]",
      "text/plain": [
       "<Figure size 864x504 with 4 Axes>"
      ]
     },
     "metadata": {
      "needs_background": "light"
     },
     "output_type": "display_data"
    }
   ],
   "source": [
    "def plot_model(xlim=[]):\n",
    "    fig, axs = plt.subplots(2, 2, figsize=(12, 7))\n",
    "    axs = axs.ravel()\n",
    "    axs[0].plot(t, 1000 * isyn)\n",
    "    axs[0].set_ylabel('Synaptic Current (pA)')\n",
    "    ispk = int(np.round(tspk[0] / h.dt))\n",
    "    if vcl_on:\n",
    "        baseline = ivcl[ispk]\n",
    "        ivcl_plt = np.array(ivcl) - baseline\n",
    "        ivcl_plt[:ispk] = 0\n",
    "        axs[2].plot(t, 1000 * ivcl_plt)\n",
    "        axs[2].set_ylabel('VClamp Current (pA)')\n",
    "    else:\n",
    "        soma_v_plt = np.array(soma_v)\n",
    "        soma_v_plt[:ispk] = soma_v_plt[ispk]\n",
    "        axs[2].plot(t, soma_v_plt)\n",
    "        axs[2].set_ylabel('Soma Voltage (mV)')\n",
    "    axs[1].plot(t, Use_rec)\n",
    "    axs[1].set_ylabel('Running Synaptic Efficacy')\n",
    "    axs[3].plot(t, Pr)\n",
    "    axs[3].set_ylabel('Release Probability')\n",
    "    for i, ax in enumerate(axs):\n",
    "        ax.set_xlim(*xlim)\n",
    "        if i > 1:\n",
    "            ax.set_xlabel('Time (ms)')\n",
    "    plt.show()\n",
    "\n",
    "plot_model([tstart - 5, tstart + 25])"
   ]
  },
  {
   "cell_type": "markdown",
   "id": "8c622873",
   "metadata": {},
   "source": [
    "### Short term plasticity"
   ]
  },
  {
   "cell_type": "code",
   "execution_count": 10,
   "id": "380ff041",
   "metadata": {
    "scrolled": false
   },
   "outputs": [
    {
     "data": {
      "application/vnd.jupyter.widget-view+json": {
       "model_id": "0bafb94b081d46aea05f61aba4fd198b",
       "version_major": 2,
       "version_minor": 0
      },
      "text/plain": [
       "VBox(children=(HBox(children=(Button(button_style='primary', description='Run', icon='history', style=ButtonSt…"
      ]
     },
     "metadata": {},
     "output_type": "display_data"
    },
    {
     "name": "stdout",
     "output_type": "stream",
     "text": [
      "Paired Pulse Ratio using PSP: 1.216\n"
     ]
    },
    {
     "data": {
      "image/png": "[encoded data removed]",
      "text/plain": [
       "<Figure size 864x504 with 4 Axes>"
      ]
     },
     "metadata": {
      "needs_background": "light"
     },
     "output_type": "display_data"
    }
   ],
   "source": [
    "def simulate_model(weight, input_frequency, Use, tau_f, tau_d):\n",
    "    nstim.interval = 1000 / input_frequency\n",
    "    nstim.number = np.ceil(tdur / 1000 * input_frequency + 1)\n",
    "    syn.initW = weight #synaptic weight for our synapse\n",
    "    syn.Fac = tau_f\n",
    "    syn.Dep = tau_d\n",
    "    syn.Use = Use\n",
    "    \n",
    "    h.finitialize(cell.Vinit * mV)\n",
    "    h.continuerun(tstop * ms)\n",
    "\n",
    "w_run = widgets.Button(description='Run', icon='history', button_style='primary')\n",
    "w_vclamp = widgets.ToggleButton(value=settings['vclamp'], description='Voltage Clamp', icon='check', button_style='primary')\n",
    "w_weight = widgets.FloatSlider(value=syn_param['initW'], min=0., max=100., step=1e-3, description='Syn Weight')\n",
    "w_input_freq = widgets.FloatSlider(value=40, min=1., max=100., step=0.1, description='Input Freq')\n",
    "w_Use = widgets.FloatSlider(value=syn_param['Use'], min=0.,max=1., step=1e-3, description='Init Efficacy')\n",
    "w_tau_f = widgets.FloatSlider(value=syn_param['Fac'], min=0, max=1000, step=1e-3, description='tau fac')\n",
    "w_tau_d = widgets.FloatSlider(value=syn_param['Dep'], min=0, max=1000, step=1e-3, description='tau dep')\n",
    "\n",
    "def update_ui(*arges):\n",
    "    clear_output()\n",
    "    display(ui)\n",
    "    switch_vclamp(w_vclamp.value)\n",
    "    simulate_model(w_weight.value, w_input_freq.value, w_Use.value, w_tau_f.value, w_tau_d.value)\n",
    "    ppr = paired_pulse_ratio(isyn if vcl_on else soma_v, tspk)\n",
    "    print('Paired Pulse Ratio using ' + ('PSC' if vcl_on else 'PSP') + f': {ppr:.3f}')\n",
    "    plot_model([tstart - nstim.interval / 3, tstop])\n",
    "    \n",
    "w_run.on_click(update_ui) \n",
    "\n",
    "ui = VBox([HBox([w_run, w_vclamp]), w_weight, HBox([w_input_freq, w_Use]), HBox([w_tau_d, w_tau_f])])\n",
    "update_ui()"
   ]
  },
  {
   "cell_type": "markdown",
   "id": "3cf2f977",
   "metadata": {},
   "source": [
    "### Fit PPR"
   ]
  },
  {
   "cell_type": "code",
   "execution_count": 11,
   "id": "a0d7e518",
   "metadata": {},
   "outputs": [],
   "source": [
    "def PPR(freq, Use, tau_d, tau_f):\n",
    "    t = 1000. / freq # Hz to ms\n",
    "    rd = np.exp(-t / tau_d)\n",
    "    rf = np.exp(-t / tau_f)\n",
    "    ppr = (1. + rf * (1. - Use)) * (1. - rd * Use)\n",
    "    return ppr\n",
    "\n",
    "def Fit_PPR(freq, ppr, weight=(1., 1., 1.), Use=None):\n",
    "\n",
    "    sigma = 1. / np.array(weight)\n",
    "    if Use is not None:\n",
    "#         bounds = (0., np.inf)\n",
    "        bounds = (-np.inf, np.log(1000.))\n",
    "        popt, _ = curve_fit(lambda f, *args: np.log(PPR(f, Use, *np.exp(args))), freq, np.log(ppr),\n",
    "                    p0=np.log((50., 50.)), bounds=bounds, sigma=sigma, maxfev=10000)\n",
    "    else:\n",
    "#         bounds = ((0., 0., 0.), (1., np.inf, np.inf))\n",
    "        bounds = (-np.inf, (0., np.log(1000.), np.log(1000.)))\n",
    "        popt, _ = curve_fit(lambda f, *args: np.log(PPR(f, *np.exp(args))), freq, np.log(ppr),\n",
    "                            p0=np.log((0.5, 50., 50.)), bounds=bounds, sigma=sigma, maxfev=10000)\n",
    "    popt = np.exp(popt)\n",
    "    return popt"
   ]
  },
  {
   "cell_type": "code",
   "execution_count": 12,
   "id": "cea47270",
   "metadata": {},
   "outputs": [],
   "source": [
    "# ppr_data = np.array([(10, 2.0), (25, 2.5), (40, 2.3)]).T\n",
    "# popt = Fit_PPR(ppr_data[0], ppr_data[1], Use=0.13) # , weight=(1., .1, 1.)\n",
    "# np.set_printoptions(formatter={'float': '{: 0.4g}'.format})\n",
    "# print(np.array(popt))"
   ]
  },
  {
   "cell_type": "markdown",
   "id": "53e46138",
   "metadata": {},
   "source": [
    "### Export parameters to json files"
   ]
  },
  {
   "cell_type": "code",
   "execution_count": 13,
   "id": "a4b91b2a",
   "metadata": {},
   "outputs": [],
   "source": [
    "# folder = 'synaptic_models'\n",
    "\n",
    "# for conn, setting in conn_type_settings.items():\n",
    "#     settings = default_settings.copy()\n",
    "#     settings.update(setting['spec_settings'])\n",
    "#     dynamics_params = {'level_of_detail': settings['syn_type']}\n",
    "#     dynamics_params.update(setting['spec_syn_param'])\n",
    "#     with open(os.path.join(folder, conn + '.json'), 'w') as f:\n",
    "#         json.dump(dynamics_params, f, indent=4)"
   ]
  },
  {
   "cell_type": "markdown",
   "id": "2f3218ab",
   "metadata": {},
   "source": [
    "### Initial spike equivalent synaptic weight"
   ]
  },
  {
   "cell_type": "code",
   "execution_count": 14,
   "id": "1c472933",
   "metadata": {},
   "outputs": [
    {
     "name": "stdout",
     "output_type": "stream",
     "text": [
      "CP2CP: 1.33\n",
      "CP2CS: 1.26\n",
      "CS2CS: 0.615\n",
      "CS2CP: 0.656\n",
      "CP2FSI: 0.525\n",
      "CS2FSI: 0.594\n",
      "CP2LTS: 0.09\n",
      "CS2LTS: 0.0988\n",
      "FSI2CP: 0.72\n",
      "FSI2CS: 0.9\n",
      "LTS2CP: 0.255\n",
      "LTS2CS: 0.33\n",
      "FSI2FSI: 0.39\n",
      "FSI2LTS: 0.18\n",
      "LTS2FSI: 0.15\n",
      "LTS2LTS: 0.15\n"
     ]
    }
   ],
   "source": [
    "for conn, setting in conn_type_settings.items():\n",
    "    W = setting['spec_syn_param']['initW'] * setting['spec_syn_param']['Use']\n",
    "    print(f'{conn:s}: {W:.3g}')"
   ]
  },
  {
   "cell_type": "code",
   "execution_count": null,
   "id": "41520a0a",
   "metadata": {},
   "outputs": [],
   "source": []
  }
 ],
 "metadata": {
  "kernelspec": {
   "display_name": "Python 3 (ipykernel)",
   "language": "python",
   "name": "python3"
  },
  "language_info": {
   "codemirror_mode": {
    "name": "ipython",
    "version": 3
   },
   "file_extension": ".py",
   "mimetype": "text/x-python",
   "name": "python",
   "nbconvert_exporter": "python",
   "pygments_lexer": "ipython3",
   "version": "3.9.12"
  }
 },
 "nbformat": 4,
 "nbformat_minor": 5
}
