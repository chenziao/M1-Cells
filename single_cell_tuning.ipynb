{
 "cells": [
  {
   "cell_type": "code",
   "execution_count": 1,
   "id": "026125c9",
   "metadata": {},
   "outputs": [],
   "source": [
    "import numpy as np\n",
    "import matplotlib.pyplot as plt\n",
    "from neuron import h\n",
    "from bmtool.singlecell import Profiler, Passive, CurrentClamp, FI\n",
    "\n",
    "template_dir = 'templates'\n",
    "mechanism_dir = 'mechanisms'\n",
    "\n",
    "profiler = Profiler(template_dir=template_dir, mechanism_dir=mechanism_dir)\n",
    "\n",
    "def run_and_plot(sim, title, xlabel, ylabel, plot=True):\n",
    "    X, Y = sim.execute()\n",
    "    X = np.array(X)\n",
    "    Y = np.array(Y)\n",
    "    if plot:\n",
    "        plt.figure()\n",
    "        plt.plot(X, Y)\n",
    "        plt.title(title)\n",
    "        plt.xlabel(xlabel)\n",
    "        plt.ylabel(ylabel)\n",
    "        plt.show()\n",
    "    return X, Y"
   ]
  },
  {
   "cell_type": "code",
   "execution_count": 2,
   "id": "624006ea",
   "metadata": {},
   "outputs": [
    {
     "name": "stdout",
     "output_type": "stream",
     "text": [
      "299.20605 \n",
      "377.77744 \n",
      "456.34883 \n"
     ]
    }
   ],
   "source": [
    "cell = h.CP_Cell()"
   ]
  },
  {
   "cell_type": "code",
   "execution_count": 3,
   "id": "84b643c9",
   "metadata": {},
   "outputs": [],
   "source": [
    "Cell = 'CP_Cell'\n",
    "h.celsius = 26.\n",
    "h.dt = 0.05\n",
    "h.steps_per_ms = 1 / h.dt\n",
    "\n",
    "noise = False\n",
    "post_init_function = 'insert_mechs(0)' if noise else None"
   ]
  },
  {
   "cell_type": "markdown",
   "id": "ef587391",
   "metadata": {},
   "source": [
    "#### Passive Properties"
   ]
  },
  {
   "cell_type": "code",
   "execution_count": 4,
   "id": "ee01ff93",
   "metadata": {},
   "outputs": [
    {
     "name": "stdout",
     "output_type": "stream",
     "text": [
      "Injection location: CP_Cell[1].soma[0](0.5)\n",
      "Recording: CP_Cell[1].soma[0](0.5)._ref_v\n"
     ]
    }
   ],
   "source": [
    "sim = Passive(Cell, inj_amp=-20., inj_delay=400., inj_dur=1000., tstop=1600., method='exp2')\n",
    "title = 'Passive Cell Current Injection'\n",
    "xlabel = 'Time (ms)'\n",
    "ylabel = 'Membrane Potential (mV)'"
   ]
  },
  {
   "cell_type": "code",
   "execution_count": 5,
   "id": "144d98b5",
   "metadata": {},
   "outputs": [
    {
     "name": "stdout",
     "output_type": "stream",
     "text": [
      "Running simulation for passive properties...\n",
      "\n",
      "V Rest: -85.48 (mV)\n",
      "Resistance: 60.95 (MOhms)\n",
      "Membrane time constant: 6.84 (ms)\n",
      "\n",
      "V_rest Calculation: Voltage taken at time 400.0 (ms) is\n",
      "-85.48 (mV)\n",
      "\n",
      "R_in Calculation: dV/dI = (v_final-v_rest)/(i_final-i_start)\n",
      "(-86.70 - (-85.48)) / (-0.02 - 0)\n",
      "1.22 (mV) / 0.02 (nA) = 60.95 (MOhms)\n",
      "\n",
      "Tau Calculation: Fit a double exponential curve to the membrane potential response\n",
      "f(t) = a0 + a1*exp(-t/tau1) + a2*exp(-t/tau2)\n",
      "Constained by initial value: f(0) = a0 + a1 + a2 = v_rest\n",
      "Fit parameters: (a0, a1, a2, tau1, tau2) = (-86.59, 1.12, -0.01, 6.84, -460.37)\n",
      "Membrane time constant is determined from the slowest exponential term: 6.84 (ms)\n",
      "\n",
      "Sag potential: v_sag = v_peak - v_final = 0.00 (mV)\n",
      "Normalized sag potential: v_sag / (v_peak - v_rest) = -0.000\n",
      "\n"
     ]
    },
    {
     "data": {
      "image/png": "[encoded data removed]",
      "text/plain": [
       "<Figure size 432x288 with 1 Axes>"
      ]
     },
     "metadata": {
      "needs_background": "light"
     },
     "output_type": "display_data"
    }
   ],
   "source": [
    "if sim.method == 'exp2':\n",
    "    X, Y = run_and_plot(sim, title, xlabel, ylabel, plot=False)\n",
    "    t_idx = slice(sim.index_v_rest, sim.index_v_final + 1)\n",
    "    plt.figure()\n",
    "    plt.plot(X[t_idx], Y[t_idx])\n",
    "    plt.plot(*sim.double_exponential_fit(), 'r:', label='double exponential fit')\n",
    "    plt.title(title)\n",
    "    plt.xlabel(xlabel)\n",
    "    plt.ylabel(ylabel)\n",
    "    plt.legend()\n",
    "    plt.show()\n",
    "else:\n",
    "    X, Y = run_and_plot(sim, title, xlabel, ylabel)"
   ]
  },
  {
   "cell_type": "markdown",
   "id": "8e87e560",
   "metadata": {},
   "source": [
    "#### Current Injection"
   ]
  },
  {
   "cell_type": "code",
   "execution_count": 5,
   "id": "573ff0cc",
   "metadata": {},
   "outputs": [
    {
     "name": "stdout",
     "output_type": "stream",
     "text": [
      "CP_Cell[1].soma[0]\n",
      "CP_Cell[1].dend[0]\n",
      "CP_Cell[1].apic[0]\n",
      "Injection location: CP_Cell[1].soma[0](0.5)\n",
      "Recording: CP_Cell[1].soma[0](0.5)._ref_v\n"
     ]
    }
   ],
   "source": [
    "sim = CurrentClamp(Cell, post_init_function=post_init_function,\n",
    "                   inj_amp=200., inj_delay=400., inj_dur=1000., tstop=1700.)\n",
    "title = 'Current Injection'\n",
    "xlabel = 'Time (ms)'\n",
    "ylabel = 'Membrane Potential (mV)'"
   ]
  },
  {
   "cell_type": "code",
   "execution_count": 6,
   "id": "ccf9a112",
   "metadata": {},
   "outputs": [
    {
     "name": "stdout",
     "output_type": "stream",
     "text": [
      "Current clamp simulation running...\n"
     ]
    },
    {
     "ename": "ValueError",
     "evalue": "x and y must have same first dimension, but have shapes (0,) and (34001,)",
     "output_type": "error",
     "traceback": [
      "\u001b[1;31m---------------------------------------------------------------------------\u001b[0m",
      "\u001b[1;31mValueError\u001b[0m                                Traceback (most recent call last)",
      "Input \u001b[1;32mIn [6]\u001b[0m, in \u001b[0;36m<cell line: 1>\u001b[1;34m()\u001b[0m\n\u001b[1;32m----> 1\u001b[0m X, Y \u001b[38;5;241m=\u001b[39m \u001b[43mrun_and_plot\u001b[49m\u001b[43m(\u001b[49m\u001b[43msim\u001b[49m\u001b[43m,\u001b[49m\u001b[43m \u001b[49m\u001b[43mtitle\u001b[49m\u001b[43m,\u001b[49m\u001b[43m \u001b[49m\u001b[43mxlabel\u001b[49m\u001b[43m,\u001b[49m\u001b[43m \u001b[49m\u001b[43mylabel\u001b[49m\u001b[43m)\u001b[49m\n",
      "Input \u001b[1;32mIn [1]\u001b[0m, in \u001b[0;36mrun_and_plot\u001b[1;34m(sim, title, xlabel, ylabel, plot)\u001b[0m\n\u001b[0;32m     15\u001b[0m \u001b[38;5;28;01mif\u001b[39;00m plot:\n\u001b[0;32m     16\u001b[0m     plt\u001b[38;5;241m.\u001b[39mfigure()\n\u001b[1;32m---> 17\u001b[0m     \u001b[43mplt\u001b[49m\u001b[38;5;241;43m.\u001b[39;49m\u001b[43mplot\u001b[49m\u001b[43m(\u001b[49m\u001b[43mX\u001b[49m\u001b[43m,\u001b[49m\u001b[43m \u001b[49m\u001b[43mY\u001b[49m\u001b[43m)\u001b[49m\n\u001b[0;32m     18\u001b[0m     plt\u001b[38;5;241m.\u001b[39mtitle(title)\n\u001b[0;32m     19\u001b[0m     plt\u001b[38;5;241m.\u001b[39mxlabel(xlabel)\n",
      "File \u001b[1;32mE:\\Users\\lenovo\\anaconda3\\lib\\site-packages\\matplotlib\\pyplot.py:2757\u001b[0m, in \u001b[0;36mplot\u001b[1;34m(scalex, scaley, data, *args, **kwargs)\u001b[0m\n\u001b[0;32m   2755\u001b[0m \u001b[38;5;129m@_copy_docstring_and_deprecators\u001b[39m(Axes\u001b[38;5;241m.\u001b[39mplot)\n\u001b[0;32m   2756\u001b[0m \u001b[38;5;28;01mdef\u001b[39;00m \u001b[38;5;21mplot\u001b[39m(\u001b[38;5;241m*\u001b[39margs, scalex\u001b[38;5;241m=\u001b[39m\u001b[38;5;28;01mTrue\u001b[39;00m, scaley\u001b[38;5;241m=\u001b[39m\u001b[38;5;28;01mTrue\u001b[39;00m, data\u001b[38;5;241m=\u001b[39m\u001b[38;5;28;01mNone\u001b[39;00m, \u001b[38;5;241m*\u001b[39m\u001b[38;5;241m*\u001b[39mkwargs):\n\u001b[1;32m-> 2757\u001b[0m     \u001b[38;5;28;01mreturn\u001b[39;00m gca()\u001b[38;5;241m.\u001b[39mplot(\n\u001b[0;32m   2758\u001b[0m         \u001b[38;5;241m*\u001b[39margs, scalex\u001b[38;5;241m=\u001b[39mscalex, scaley\u001b[38;5;241m=\u001b[39mscaley,\n\u001b[0;32m   2759\u001b[0m         \u001b[38;5;241m*\u001b[39m\u001b[38;5;241m*\u001b[39m({\u001b[38;5;124m\"\u001b[39m\u001b[38;5;124mdata\u001b[39m\u001b[38;5;124m\"\u001b[39m: data} \u001b[38;5;28;01mif\u001b[39;00m data \u001b[38;5;129;01mis\u001b[39;00m \u001b[38;5;129;01mnot\u001b[39;00m \u001b[38;5;28;01mNone\u001b[39;00m \u001b[38;5;28;01melse\u001b[39;00m {}), \u001b[38;5;241m*\u001b[39m\u001b[38;5;241m*\u001b[39mkwargs)\n",
      "File \u001b[1;32mE:\\Users\\lenovo\\anaconda3\\lib\\site-packages\\matplotlib\\axes\\_axes.py:1632\u001b[0m, in \u001b[0;36mAxes.plot\u001b[1;34m(self, scalex, scaley, data, *args, **kwargs)\u001b[0m\n\u001b[0;32m   1390\u001b[0m \u001b[38;5;124;03m\"\"\"\u001b[39;00m\n\u001b[0;32m   1391\u001b[0m \u001b[38;5;124;03mPlot y versus x as lines and/or markers.\u001b[39;00m\n\u001b[0;32m   1392\u001b[0m \n\u001b[1;32m   (...)\u001b[0m\n\u001b[0;32m   1629\u001b[0m \u001b[38;5;124;03m(``'green'``) or hex strings (``'#008000'``).\u001b[39;00m\n\u001b[0;32m   1630\u001b[0m \u001b[38;5;124;03m\"\"\"\u001b[39;00m\n\u001b[0;32m   1631\u001b[0m kwargs \u001b[38;5;241m=\u001b[39m cbook\u001b[38;5;241m.\u001b[39mnormalize_kwargs(kwargs, mlines\u001b[38;5;241m.\u001b[39mLine2D)\n\u001b[1;32m-> 1632\u001b[0m lines \u001b[38;5;241m=\u001b[39m [\u001b[38;5;241m*\u001b[39m\u001b[38;5;28mself\u001b[39m\u001b[38;5;241m.\u001b[39m_get_lines(\u001b[38;5;241m*\u001b[39margs, data\u001b[38;5;241m=\u001b[39mdata, \u001b[38;5;241m*\u001b[39m\u001b[38;5;241m*\u001b[39mkwargs)]\n\u001b[0;32m   1633\u001b[0m \u001b[38;5;28;01mfor\u001b[39;00m line \u001b[38;5;129;01min\u001b[39;00m lines:\n\u001b[0;32m   1634\u001b[0m     \u001b[38;5;28mself\u001b[39m\u001b[38;5;241m.\u001b[39madd_line(line)\n",
      "File \u001b[1;32mE:\\Users\\lenovo\\anaconda3\\lib\\site-packages\\matplotlib\\axes\\_base.py:312\u001b[0m, in \u001b[0;36m_process_plot_var_args.__call__\u001b[1;34m(self, data, *args, **kwargs)\u001b[0m\n\u001b[0;32m    310\u001b[0m     this \u001b[38;5;241m+\u001b[39m\u001b[38;5;241m=\u001b[39m args[\u001b[38;5;241m0\u001b[39m],\n\u001b[0;32m    311\u001b[0m     args \u001b[38;5;241m=\u001b[39m args[\u001b[38;5;241m1\u001b[39m:]\n\u001b[1;32m--> 312\u001b[0m \u001b[38;5;28;01myield from\u001b[39;00m \u001b[38;5;28;43mself\u001b[39;49m\u001b[38;5;241;43m.\u001b[39;49m\u001b[43m_plot_args\u001b[49m\u001b[43m(\u001b[49m\u001b[43mthis\u001b[49m\u001b[43m,\u001b[49m\u001b[43m \u001b[49m\u001b[43mkwargs\u001b[49m\u001b[43m)\u001b[49m\n",
      "File \u001b[1;32mE:\\Users\\lenovo\\anaconda3\\lib\\site-packages\\matplotlib\\axes\\_base.py:498\u001b[0m, in \u001b[0;36m_process_plot_var_args._plot_args\u001b[1;34m(self, tup, kwargs, return_kwargs)\u001b[0m\n\u001b[0;32m    495\u001b[0m     \u001b[38;5;28mself\u001b[39m\u001b[38;5;241m.\u001b[39maxes\u001b[38;5;241m.\u001b[39myaxis\u001b[38;5;241m.\u001b[39mupdate_units(y)\n\u001b[0;32m    497\u001b[0m \u001b[38;5;28;01mif\u001b[39;00m x\u001b[38;5;241m.\u001b[39mshape[\u001b[38;5;241m0\u001b[39m] \u001b[38;5;241m!=\u001b[39m y\u001b[38;5;241m.\u001b[39mshape[\u001b[38;5;241m0\u001b[39m]:\n\u001b[1;32m--> 498\u001b[0m     \u001b[38;5;28;01mraise\u001b[39;00m \u001b[38;5;167;01mValueError\u001b[39;00m(\u001b[38;5;124mf\u001b[39m\u001b[38;5;124m\"\u001b[39m\u001b[38;5;124mx and y must have same first dimension, but \u001b[39m\u001b[38;5;124m\"\u001b[39m\n\u001b[0;32m    499\u001b[0m                      \u001b[38;5;124mf\u001b[39m\u001b[38;5;124m\"\u001b[39m\u001b[38;5;124mhave shapes \u001b[39m\u001b[38;5;132;01m{\u001b[39;00mx\u001b[38;5;241m.\u001b[39mshape\u001b[38;5;132;01m}\u001b[39;00m\u001b[38;5;124m and \u001b[39m\u001b[38;5;132;01m{\u001b[39;00my\u001b[38;5;241m.\u001b[39mshape\u001b[38;5;132;01m}\u001b[39;00m\u001b[38;5;124m\"\u001b[39m)\n\u001b[0;32m    500\u001b[0m \u001b[38;5;28;01mif\u001b[39;00m x\u001b[38;5;241m.\u001b[39mndim \u001b[38;5;241m>\u001b[39m \u001b[38;5;241m2\u001b[39m \u001b[38;5;129;01mor\u001b[39;00m y\u001b[38;5;241m.\u001b[39mndim \u001b[38;5;241m>\u001b[39m \u001b[38;5;241m2\u001b[39m:\n\u001b[0;32m    501\u001b[0m     \u001b[38;5;28;01mraise\u001b[39;00m \u001b[38;5;167;01mValueError\u001b[39;00m(\u001b[38;5;124mf\u001b[39m\u001b[38;5;124m\"\u001b[39m\u001b[38;5;124mx and y can be no greater than 2D, but have \u001b[39m\u001b[38;5;124m\"\u001b[39m\n\u001b[0;32m    502\u001b[0m                      \u001b[38;5;124mf\u001b[39m\u001b[38;5;124m\"\u001b[39m\u001b[38;5;124mshapes \u001b[39m\u001b[38;5;132;01m{\u001b[39;00mx\u001b[38;5;241m.\u001b[39mshape\u001b[38;5;132;01m}\u001b[39;00m\u001b[38;5;124m and \u001b[39m\u001b[38;5;132;01m{\u001b[39;00my\u001b[38;5;241m.\u001b[39mshape\u001b[38;5;132;01m}\u001b[39;00m\u001b[38;5;124m\"\u001b[39m)\n",
      "\u001b[1;31mValueError\u001b[0m: x and y must have same first dimension, but have shapes (0,) and (34001,)"
     ]
    },
    {
     "data": {
      "image/png": "[encoded data removed]",
      "text/plain": [
       "<Figure size 432x288 with 1 Axes>"
      ]
     },
     "metadata": {
      "needs_background": "light"
     },
     "output_type": "display_data"
    }
   ],
   "source": [
    "X, Y = run_and_plot(sim, title, xlabel, ylabel)"
   ]
  },
  {
   "cell_type": "markdown",
   "id": "d0b2e017",
   "metadata": {},
   "source": [
    "#### F-I Curve"
   ]
  },
  {
   "cell_type": "code",
   "execution_count": 7,
   "id": "c2d6662b",
   "metadata": {},
   "outputs": [
    {
     "name": "stdout",
     "output_type": "stream",
     "text": [
      "Injection location: CP_Cell[21].soma[0](0.5)\n",
      "Recording: CP_Cell[21].soma[0](0.5)._ref_v\n"
     ]
    }
   ],
   "source": [
    "sim = FI(Cell, post_init_function=post_init_function, i_start=0., i_stop=1000., i_increment=50., tstart=400.)\n",
    "title = 'FI Curve'\n",
    "xlabel = 'Injection (nA)'\n",
    "ylabel = '# Spikes'"
   ]
  },
  {
   "cell_type": "code",
   "execution_count": 8,
   "id": "f0223eb8",
   "metadata": {},
   "outputs": [
    {
     "name": "stdout",
     "output_type": "stream",
     "text": [
      "Running simulations for FI curve...\n",
      "\n",
      "Results\n",
      "Injection (nA): 0, 0.05, 0.1, 0.15, 0.2, 0.25, 0.3, 0.35, 0.4, 0.45, 0.5, 0.55, 0.6, 0.65, 0.7, 0.75, 0.8, 0.85, 0.9, 0.95\n",
      "Number of spikes: 0, 1, 10, 13, 15, 16, 18, 19, 20, 20, 21, 21, 22, 23, 23, 24, 25, 26, 26, 27\n",
      "\n"
     ]
    },
    {
     "data": {
      "image/png": "[encoded data removed]",
      "text/plain": [
       "<Figure size 432x288 with 1 Axes>"
      ]
     },
     "metadata": {
      "needs_background": "light"
     },
     "output_type": "display_data"
    }
   ],
   "source": [
    "X, Y = run_and_plot(sim, title, xlabel, ylabel)"
   ]
  },
  {
   "cell_type": "code",
   "execution_count": null,
   "id": "b7727698",
   "metadata": {},
   "outputs": [],
   "source": []
  }
 ],
 "metadata": {
  "kernelspec": {
   "display_name": "Python 3 (ipykernel)",
   "language": "python",
   "name": "python3"
  },
  "language_info": {
   "codemirror_mode": {
    "name": "ipython",
    "version": 3
   },
   "file_extension": ".py",
   "mimetype": "text/x-python",
   "name": "python",
   "nbconvert_exporter": "python",
   "pygments_lexer": "ipython3",
   "version": "3.9.12"
  }
 },
 "nbformat": 4,
 "nbformat_minor": 5
}
